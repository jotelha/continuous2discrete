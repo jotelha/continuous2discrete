{
 "cells": [
  {
   "cell_type": "markdown",
   "metadata": {},
   "source": [
    "# Implement a physically correct distribution\n",
    "\n",
    "In order to understand lubrication better, we simulate thin layers of lubricant on a metallic surface, solvated in water.\n",
    "Different structures of lubricant films are created by varying parameters like their concentration and the charge of the surface.\n",
    "The lubricant is somewhat solvable in water, thus parts of the film will diffuse into the bulk water.\n",
    "Lubricant molecules are charged, and their distribution is described by the Poisson-Bolzmann equation:\n",
    "$\n",
    "\\begin{align}\n",
    "\\Psi(x) &= \\frac{2kT}{e} \\log\\Big(\\frac{1 + \\gamma e^{-\\kappa x}}{1- \\gamma e^{-\\kappa x}}\\Big) \n",
    "        \\approx \\frac{4kT}{e} \\gamma e^{-\\kappa x} \\\\\n",
    "c_{Na}(x) &= c_{Na}(\\infty) e^{-e \\Psi(x)/kT}\n",
    "\\end{align}\n",
    "$"
   ]
  },
  {
   "cell_type": "code",
   "execution_count": 7,
   "metadata": {},
   "outputs": [],
   "source": [
    "import numpy\n",
    "import pandas\n",
    "import generate_structure\n",
    "import matplotlib.pyplot as plt\n",
    "\n",
    "from IPython.display import Image\n",
    "from IPython.core.display import HTML "
   ]
  },
  {
   "cell_type": "code",
   "execution_count": 9,
   "metadata": {},
   "outputs": [
    {
     "data": {
      "text/html": [
       "<img src=\"./z.png\" width=\"500\"/>"
      ],
      "text/plain": [
       "<IPython.core.display.Image object>"
      ]
     },
     "execution_count": 9,
     "metadata": {},
     "output_type": "execute_result"
    }
   ],
   "source": [
    "Image(url= \"./z.png\",  width=500)"
   ]
  }
 ],
 "metadata": {
  "kernelspec": {
   "display_name": "Python 3",
   "language": "python",
   "name": "python3"
  },
  "language_info": {
   "codemirror_mode": {
    "name": "ipython",
    "version": 3
   },
   "file_extension": ".py",
   "mimetype": "text/x-python",
   "name": "python",
   "nbconvert_exporter": "python",
   "pygments_lexer": "ipython3",
   "version": "3.5.2"
  }
 },
 "nbformat": 4,
 "nbformat_minor": 2
}
